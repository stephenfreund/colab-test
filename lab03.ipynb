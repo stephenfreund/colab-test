{
 "cells": [
  {
   "cell_type": "code",
   "execution_count": null,
   "id": "32c897ff",
   "metadata": {
    "deletable": false,
    "editable": false
   },
   "outputs": [],
   "source": [
    "# Initialize Otter\n",
    "import otter\n",
    "grader = otter.Notebook(colab=True)"
   ]
  },
  {
   "cell_type": "markdown",
   "id": "f0bb8fc1",
   "metadata": {
    "deletable": false,
    "editable": false,
    "tags": []
   },
   "source": [
    "# Lab 3: Table Manipulation and Visualization"
   ]
  },
  {
   "cell_type": "markdown",
   "id": "7e80e7a2",
   "metadata": {
    "deletable": false,
    "editable": false
   },
   "source": [
    "**Helpful Resources:**\n",
    "- [Python Reference](https://www.cs.williams.edu/~cs104/auto/python-library-ref.html): Cheat sheet of helpful library methods.\n",
    "\n",
    "**Recommended Reading**: \n",
    "* [Ch 7. Visualization](https://inferentialthinking.com/chapters/07/Visualization.html)"
   ]
  },
  {
   "cell_type": "markdown",
   "id": "c478fd6e",
   "metadata": {
    "deletable": false,
    "editable": false,
    "tags": []
   },
   "source": [
    "**Lab Instructions:**\n",
    "- Please complete this notebook by filling in the cells provided. \n",
    "- Before you begin, execute the following cell to setup the notebook by importing some helpful libraries. Each time you start your server, you will need to execute this cell again.  \n",
    "- For all problems that you must write explanations and sentences for, you **must** provide your answer in the designated space. \n",
    "- **Moreover, throughout this lab and all future ones, please be sure to not re-assign variables throughout the notebook!** For example, if you use `max_temperature` in your answer to one question, do not reassign it later on. Otherwise, you will fail tests that you thought you were passing previously!\n",
    "\n",
    "**Note: This lab has hidden tests on it. That means even though tests may say 100% passed, doesn't mean your final grade will be 100%. We will be running more tests for correctness once everyone turns in the lab.**"
   ]
  },
  {
   "cell_type": "code",
   "execution_count": null,
   "id": "6bf5066c",
   "metadata": {
    "deletable": false,
    "editable": false
   },
   "outputs": [],
   "source": [
    "# Run this cell to set up the notebook.\n",
    "\n",
    "# These lines import the Numpy and Datascience modules.\n",
    "import numpy as np\n",
    "from datascience import *\n",
    "\n",
    "# These lines make plots look nice and hide some messy Python warnings.\n",
    "import matplotlib\n",
    "%matplotlib inline\n",
    "import matplotlib.pyplot as plt\n",
    "plt.style.use('fivethirtyeight')\n",
    "import warnings\n",
    "warnings.simplefilter('ignore', FutureWarning)\n",
    "warnings.simplefilter('ignore', np.VisibleDeprecationWarning)"
   ]
  },
  {
   "cell_type": "markdown",
   "id": "af2ee4c8",
   "metadata": {
    "deletable": false,
    "editable": false,
    "tags": []
   },
   "source": [
    "## 1. Unemployment Data (35 pts)\n",
    "\n"
   ]
  },
  {
   "cell_type": "markdown",
   "id": "43455864",
   "metadata": {
    "deletable": false,
    "editable": false
   },
   "source": [
    "<font color='green'>\n",
    "    \n",
    "##### Learning objectives\n",
    "- Sort data in tables\n",
    "- Select and manipulate rows and columns in tables in order to answer quantitative questions \n",
    "- Create and analyze line plots\n",
    "</font>"
   ]
  },
  {
   "cell_type": "markdown",
   "id": "10e2368d",
   "metadata": {
    "deletable": false,
    "editable": false
   },
   "source": [
    "The Federal Reserve Bank of St. Louis publishes data about jobs in the US.  Below, we've loaded data on unemployment in the United States. There are many ways of defining unemployment, and our dataset includes two notions of the unemployment rate:\n",
    "\n",
    "1. Among people who are able to work and are looking for a full-time job, the percentage who can't find a job.  This is called the Non-Employment Index, or NEI.\n",
    "2. Among people who are able to work and are looking for a full-time job, the percentage who can't find any job *or* are only working at a part-time job.  The latter group is called \"Part-Time for Economic Reasons\", so the acronym for this index is NEI-PTER.  (Economists are great at marketing.)\n",
    "\n",
    "The source of the data is [here](https://fred.stlouisfed.org/categories/33509)."
   ]
  },
  {
   "cell_type": "markdown",
   "id": "2d86e4ec",
   "metadata": {
    "deletable": false,
    "editable": false
   },
   "source": [
    "#### Part 1.1 (5 pts)\n"
   ]
  },
  {
   "cell_type": "markdown",
   "id": "987c03e9",
   "metadata": {
    "deletable": false,
    "editable": false
   },
   "source": [
    " The data are in a CSV file called `unemployment.csv`.  Load that file into a table called `unemployment`. \n",
    "\n"
   ]
  },
  {
   "cell_type": "code",
   "execution_count": null,
   "id": "f2d3d4f4",
   "metadata": {
    "deletable": false,
    "tags": []
   },
   "outputs": [],
   "source": [
    "unemployment = ...\n",
    "unemployment"
   ]
  },
  {
   "cell_type": "code",
   "execution_count": null,
   "id": "a8a60b4c",
   "metadata": {
    "deletable": false,
    "editable": false
   },
   "outputs": [],
   "source": [
    "grader.check(\"q1.1\")"
   ]
  },
  {
   "cell_type": "markdown",
   "id": "a842f69e",
   "metadata": {
    "deletable": false,
    "editable": false
   },
   "source": [
    "#### Part 1.2 (5 pts)\n"
   ]
  },
  {
   "cell_type": "markdown",
   "id": "6f440010",
   "metadata": {
    "deletable": false,
    "editable": false
   },
   "source": [
    " Sort the data in descending order by NEI, naming the sorted table `by_nei`.  Create another table called `by_nei_pter` that's sorted in descending order by NEI-PTER instead. \n",
    "\n"
   ]
  },
  {
   "cell_type": "code",
   "execution_count": null,
   "id": "7cb4ddcf",
   "metadata": {
    "deletable": false,
    "tags": []
   },
   "outputs": [],
   "source": [
    "by_nei = ...\n",
    "by_nei_pter = ..."
   ]
  },
  {
   "cell_type": "code",
   "execution_count": null,
   "id": "21f66884",
   "metadata": {
    "deletable": false,
    "editable": false
   },
   "outputs": [],
   "source": [
    "grader.check(\"q1.2\")"
   ]
  },
  {
   "cell_type": "code",
   "execution_count": null,
   "id": "64d65f2c",
   "metadata": {
    "deletable": false,
    "editable": false
   },
   "outputs": [],
   "source": [
    "# Run this cell to check your by_nei table. You do not need to change the code.\n",
    "by_nei.show(5)"
   ]
  },
  {
   "cell_type": "code",
   "execution_count": null,
   "id": "047f2c73",
   "metadata": {
    "deletable": false,
    "editable": false
   },
   "outputs": [],
   "source": [
    "# Run this cell to check your by_nei_pter table. You do not need to change the code.\n",
    "by_nei_pter.show(5)"
   ]
  },
  {
   "cell_type": "markdown",
   "id": "d7f71be4",
   "metadata": {
    "deletable": false,
    "editable": false
   },
   "source": [
    "#### Part 1.3 (5 pts)\n"
   ]
  },
  {
   "cell_type": "markdown",
   "id": "b3204f8f",
   "metadata": {
    "deletable": false,
    "editable": false
   },
   "source": [
    " Use `take` to make a table containing the data for the 10 quarters when NEI was greatest.  Call that table `greatest_nei`.\n",
    "\n",
    "`greatest_nei` should be sorted in descending order of `NEI`. Note that each row of `unemployment` represents a quarter. "
   ]
  },
  {
   "cell_type": "code",
   "execution_count": null,
   "id": "7027515a",
   "metadata": {
    "deletable": false,
    "tags": []
   },
   "outputs": [],
   "source": [
    "greatest_nei = ...\n",
    "greatest_nei"
   ]
  },
  {
   "cell_type": "code",
   "execution_count": null,
   "id": "4e533ce1",
   "metadata": {
    "deletable": false,
    "editable": false
   },
   "outputs": [],
   "source": [
    "grader.check(\"q1.3\")"
   ]
  },
  {
   "cell_type": "markdown",
   "id": "3abd1b90",
   "metadata": {
    "deletable": false,
    "editable": false
   },
   "source": [
    "#### Part 1.4 (5 pts)\n"
   ]
  },
  {
   "cell_type": "markdown",
   "id": "1ba4d7e7",
   "metadata": {
    "deletable": false,
    "editable": false
   },
   "source": [
    "Economists care about PTER (recall: \"Part-Time for Economic Reasons\") for many reasons. For example, it's believed that many people became PTER  in the \"Great Recession\" of 2008-2009.   \n",
    " \n",
    "Compute an array containing the percentage of people who were PTER in each quarter.  (The first element of the array should correspond to the first row of `unemployment`, and so on.) \n",
    "\n",
    "*Notes:* \n",
    "- Use the original `unemployment` table for this.\n",
    "- Recall, NEI-PTER is the percentage of people who are unemployed (included in the NEI) plus the percentage of people who are PTER. "
   ]
  },
  {
   "cell_type": "code",
   "execution_count": null,
   "id": "2c95e07e",
   "metadata": {
    "deletable": false,
    "tags": []
   },
   "outputs": [],
   "source": [
    "pter = ...\n",
    "pter"
   ]
  },
  {
   "cell_type": "code",
   "execution_count": null,
   "id": "9e1d9ec7",
   "metadata": {
    "deletable": false,
    "editable": false
   },
   "outputs": [],
   "source": [
    "grader.check(\"q1.4\")"
   ]
  },
  {
   "cell_type": "markdown",
   "id": "4a5e9322",
   "metadata": {
    "deletable": false,
    "editable": false
   },
   "source": [
    "#### Part 1.5 (5 pts)\n"
   ]
  },
  {
   "cell_type": "markdown",
   "id": "648a0fdd",
   "metadata": {
    "deletable": false,
    "editable": false
   },
   "source": [
    " Add `pter` as a column to `unemployment` (name the column `PTER`) and sort the resulting table by that column in descending order.  Call the resulting table `by_pter`.\n",
    "\n",
    "Try to do this with a single line of code, if you can. \n",
    "\n"
   ]
  },
  {
   "cell_type": "code",
   "execution_count": null,
   "id": "7788f235",
   "metadata": {
    "deletable": false,
    "tags": []
   },
   "outputs": [],
   "source": [
    "by_pter = ...\n",
    "by_pter"
   ]
  },
  {
   "cell_type": "code",
   "execution_count": null,
   "id": "c792c977",
   "metadata": {
    "deletable": false,
    "editable": false
   },
   "outputs": [],
   "source": [
    "grader.check(\"q1.5\")"
   ]
  },
  {
   "cell_type": "markdown",
   "id": "b9578ee2",
   "metadata": {
    "deletable": false,
    "editable": false
   },
   "source": [
    "<!-- BEGIN QUESTION -->\n",
    "\n",
    "#### Part 1.6 (5 pts)\n"
   ]
  },
  {
   "cell_type": "markdown",
   "id": "309e2c14",
   "metadata": {
    "deletable": false,
    "editable": false
   },
   "source": [
    "Create a line plot of PTER over time. \n",
    "\n",
    "To do this, create a new table called `pter_over_time` that adds the `year` array and the `pter` array to the `unemployment` table. Label these columns `Year` and `PTER`. Then, generate a line plot using one of the table methods you've learned in class.\n",
    "\n",
    "The order of the columns matter for our correctness tests, so be sure `Year` comes before `PTER`. \n",
    "\n",
    "*Clarification: When constructing `pter_over_time`, do not just add the `year` column to the `by_pter` table. Please follow the directions in the question above.*"
   ]
  },
  {
   "cell_type": "code",
   "execution_count": null,
   "id": "3bc1dd05",
   "metadata": {
    "deletable": false,
    "tags": []
   },
   "outputs": [],
   "source": [
    "year = 1994 + np.arange(by_pter.num_rows)/4 #this accounts for the quarters \n",
    "pter_over_time = ...\n",
    "...\n",
    "\n",
    "plt.ylim(0,2); # Do not change this line -- sets bounds on y-axis"
   ]
  },
  {
   "cell_type": "code",
   "execution_count": null,
   "id": "fd6204da",
   "metadata": {
    "deletable": false,
    "editable": false
   },
   "outputs": [],
   "source": [
    "grader.check(\"q1.6\")"
   ]
  },
  {
   "cell_type": "markdown",
   "id": "2bb9df89",
   "metadata": {
    "deletable": false,
    "editable": false
   },
   "source": [
    "<!-- END QUESTION -->\n",
    "\n",
    "#### Part 1.7 (5 pts)\n"
   ]
  },
  {
   "cell_type": "markdown",
   "id": "65c88ac7",
   "metadata": {
    "deletable": false,
    "editable": false
   },
   "source": [
    " Were PTER rates high during the Great Recession (that is to say, were PTER rates particularly high in the years 2008 through 2011)? Examine the line plot you just created. Then assign `highPTER` to `True` if you think PTER rates were high in this period, or `False` if you think they weren't. "
   ]
  },
  {
   "cell_type": "code",
   "execution_count": null,
   "id": "d6e7110b",
   "metadata": {
    "deletable": false,
    "tags": []
   },
   "outputs": [],
   "source": [
    "highPTER = ..."
   ]
  },
  {
   "cell_type": "code",
   "execution_count": null,
   "id": "6fccf2a8",
   "metadata": {
    "deletable": false,
    "editable": false
   },
   "outputs": [],
   "source": [
    "grader.check(\"q1.7\")"
   ]
  },
  {
   "cell_type": "markdown",
   "id": "9ab86a3a",
   "metadata": {
    "deletable": false,
    "editable": false
   },
   "source": [
    "## 2. Birth Rates (30 pts)\n",
    "\n"
   ]
  },
  {
   "cell_type": "markdown",
   "id": "a6936564",
   "metadata": {
    "deletable": false,
    "editable": false
   },
   "source": [
    "<font color='green'>\n",
    "    \n",
    "##### Learning objectives\n",
    "- Use built-in Table functions, Python functions, and numpy functions to answer quantitative questions about a dataset\n",
    "- Create visualizations to analyze trends in data\n",
    "</font>"
   ]
  },
  {
   "cell_type": "markdown",
   "id": "2058b7d8",
   "metadata": {
    "deletable": false,
    "editable": false
   },
   "source": [
    "The following table gives census-based population estimates for each state on both July 1, 2015 and July 1, 2016. The last four columns describe the components of the estimated change in population during this time interval. **For all questions below, assume that the word \"states\" refers to all 52 rows including Puerto Rico & the District of Columbia.**\n",
    "- The data was taken from [here](http://www2.census.gov/programs-surveys/popest/datasets/2010-2016/national/totals/nst-est2016-alldata.csv).\n",
    "- If you want to read more about the different column descriptions, click [here](http://www2.census.gov/programs-surveys/popest/datasets/2010-2015/national/totals/nst-est2015-alldata.pdf).\n",
    "- The raw data is a bit messy - run the cell below to clean the table and make it easier to work with."
   ]
  },
  {
   "cell_type": "code",
   "execution_count": null,
   "id": "c71cf0a2",
   "metadata": {
    "deletable": false,
    "editable": false
   },
   "outputs": [],
   "source": [
    "# Don't change this cell; just run it.\n",
    "pop = Table.read_table('nst-est2016-alldata.csv').where('SUMLEV', 40).select([1, 4, 12, 13, 27, 34, 62, 69])\n",
    "pop = pop.relabeled('POPESTIMATE2015', '2015').relabeled('POPESTIMATE2016', '2016')\n",
    "pop = pop.relabeled('BIRTHS2016', 'BIRTHS').relabeled('DEATHS2016', 'DEATHS')\n",
    "pop = pop.relabeled('NETMIG2016', 'MIGRATION').relabeled('RESIDUAL2016', 'OTHER')\n",
    "pop = pop.with_columns(\"REGION\", np.array([int(region) if region != \"X\" else 0 for region in pop.column(\"REGION\")]))\n",
    "pop.set_format([2, 3, 4, 5, 6, 7], NumberFormatter(decimals=0)).show(5)"
   ]
  },
  {
   "cell_type": "markdown",
   "id": "e6f68bd8",
   "metadata": {
    "deletable": false,
    "editable": false
   },
   "source": [
    "#### Part 2.1 (5 pts)\n"
   ]
  },
  {
   "cell_type": "markdown",
   "id": "2861684c",
   "metadata": {
    "deletable": false,
    "editable": false
   },
   "source": [
    "Assign the variable `us_birth_rate` to the total US annual birth rate during this time interval. The annual birth rate for a year-long period is the total number of births in that period as a proportion of the population size at the start of the time period. \n",
    "\n",
    "*Hint:* Which year corresponds to the start of the time period?\n",
    "\n"
   ]
  },
  {
   "cell_type": "code",
   "execution_count": null,
   "id": "7214c4bb",
   "metadata": {
    "deletable": false,
    "tags": []
   },
   "outputs": [],
   "source": [
    "us_birth_rate = ...\n",
    "us_birth_rate"
   ]
  },
  {
   "cell_type": "code",
   "execution_count": null,
   "id": "46edc87c",
   "metadata": {
    "deletable": false,
    "editable": false
   },
   "outputs": [],
   "source": [
    "grader.check(\"q2.1\")"
   ]
  },
  {
   "cell_type": "markdown",
   "id": "43986b14",
   "metadata": {
    "deletable": false,
    "editable": false
   },
   "source": [
    "#### Part 2.2 (5 pts)\n"
   ]
  },
  {
   "cell_type": "markdown",
   "id": "c465fdb3",
   "metadata": {
    "deletable": false,
    "editable": false
   },
   "source": [
    "Create a table `movers` which contains the same information as `pop` but only includes states for which the **absolute value** of the **annual rate of migration** was higher than 1%. \n",
    " \n",
    "- The annual rate of migration for a year-long period is the net number of migrations (in and out) as a proportion of the population size at the start of the period. \n",
    "- The `MIGRATION` column contains estimated annual net migration counts by state. "
   ]
  },
  {
   "cell_type": "code",
   "execution_count": null,
   "id": "283c8d54",
   "metadata": {
    "deletable": false,
    "tags": []
   },
   "outputs": [],
   "source": [
    "migration_rates = ...\n",
    "movers = ...\n",
    "movers"
   ]
  },
  {
   "cell_type": "code",
   "execution_count": null,
   "id": "b84872c9",
   "metadata": {
    "deletable": false,
    "editable": false
   },
   "outputs": [],
   "source": [
    "grader.check(\"q2.2\")"
   ]
  },
  {
   "cell_type": "markdown",
   "id": "1f2524c3",
   "metadata": {
    "deletable": false,
    "editable": false
   },
   "source": [
    "#### Part 2.3 (5 pts)\n"
   ]
  },
  {
   "cell_type": "markdown",
   "id": "996095ad",
   "metadata": {
    "deletable": false,
    "editable": false
   },
   "source": [
    " Assign `west_births` to the total number of births that occurred in region 4 (the Western US). \n",
    "\n",
    "*Hint:* Make sure you double check the type of the values in the `REGION` column, and appropriately filter (i.e. the types must match!).\n",
    "\n"
   ]
  },
  {
   "cell_type": "code",
   "execution_count": null,
   "id": "ff5b2f4f",
   "metadata": {
    "deletable": false,
    "tags": []
   },
   "outputs": [],
   "source": [
    "west_births = ...\n",
    "west_births"
   ]
  },
  {
   "cell_type": "code",
   "execution_count": null,
   "id": "84fcdef2",
   "metadata": {
    "deletable": false,
    "editable": false
   },
   "outputs": [],
   "source": [
    "grader.check(\"q2.3\")"
   ]
  },
  {
   "cell_type": "markdown",
   "id": "e0e95154",
   "metadata": {
    "deletable": false,
    "editable": false
   },
   "source": [
    "#### Part 2.4 (5 pts)\n"
   ]
  },
  {
   "cell_type": "markdown",
   "id": "260b7e90",
   "metadata": {
    "deletable": false,
    "editable": false
   },
   "source": [
    " \n",
    "\n",
    "In the next question, you will be creating a visualization to understand the relationship between birth and death rates. The annual death rate for a year-long period is the total number of deaths in that period as a proportion of the population size at the start of the time period.\n",
    "\n",
    "What visualization is most appropriate to see if there is an association between birth and death rates during a given time interval?\n",
    "\n",
    "1. Line Graph\n",
    "<br>\n",
    "2. Bar Chart\n",
    "<br>\n",
    "3. Scatter Plot\n",
    "\n",
    "Assign `visualization` below to the number corresponding to the correct visualization. \n",
    "\n"
   ]
  },
  {
   "cell_type": "code",
   "execution_count": null,
   "id": "92e894e2",
   "metadata": {
    "deletable": false,
    "tags": []
   },
   "outputs": [],
   "source": [
    "visualization = ..."
   ]
  },
  {
   "cell_type": "code",
   "execution_count": null,
   "id": "ae7ab61c",
   "metadata": {
    "deletable": false,
    "editable": false
   },
   "outputs": [],
   "source": [
    "grader.check(\"q2.4\")"
   ]
  },
  {
   "cell_type": "markdown",
   "id": "77547bfe",
   "metadata": {
    "deletable": false,
    "editable": false
   },
   "source": [
    "<!-- BEGIN QUESTION -->\n",
    "\n",
    "#### Part 2.5 (5 pts)\n"
   ]
  },
  {
   "cell_type": "markdown",
   "id": "3c08006e",
   "metadata": {
    "deletable": false,
    "editable": false
   },
   "source": [
    " In the code cell below, create a visualization based on your answer above in order to determine if there is an association between birth rate and death rate during this time interval. It may be helpful to create an intermediate table here. "
   ]
  },
  {
   "cell_type": "code",
   "execution_count": null,
   "id": "4bfa1670",
   "metadata": {
    "deletable": false,
    "tags": []
   },
   "outputs": [],
   "source": [
    "# In this cell, use birth_props and death_props to generate your chart\n",
    "birth_rates = pop.column('BIRTHS') / pop.column('2015')\n",
    "death_rates = pop.column('DEATHS') / pop.column('2015')\n",
    "..."
   ]
  },
  {
   "cell_type": "markdown",
   "id": "78673d9b",
   "metadata": {
    "deletable": false,
    "editable": false
   },
   "source": [
    "<!-- END QUESTION -->\n",
    "\n",
    "#### Part 2.6 (5 pts)\n"
   ]
  },
  {
   "cell_type": "markdown",
   "id": "df9fbde0",
   "metadata": {
    "deletable": false,
    "editable": false
   },
   "source": [
    "True or False: There is an association between birth rate and death rate during this time interval. \n",
    "\n",
    "Assign `assoc` to `True` or `False` in the cell below. "
   ]
  },
  {
   "cell_type": "code",
   "execution_count": null,
   "id": "0ab44a3d",
   "metadata": {
    "deletable": false,
    "tags": []
   },
   "outputs": [],
   "source": [
    "assoc = ..."
   ]
  },
  {
   "cell_type": "code",
   "execution_count": null,
   "id": "ff0165b6",
   "metadata": {
    "deletable": false,
    "editable": false
   },
   "outputs": [],
   "source": [
    "grader.check(\"q2.6\")"
   ]
  },
  {
   "cell_type": "markdown",
   "id": "958bd748",
   "metadata": {
    "deletable": false,
    "editable": false
   },
   "source": [
    "## 3. Uber data (30 pts)\n",
    "\n"
   ]
  },
  {
   "cell_type": "markdown",
   "id": "59ac9608",
   "metadata": {
    "deletable": false,
    "editable": false
   },
   "source": [
    "<font color='green'>\n",
    "    \n",
    "##### Learning objectives\n",
    "- Use built-in Table functions, Python functions, and numpy functions to answer quantitative questions about a dataset\n",
    "- Create histograms from data and understand the histograms' quantitative significance\n",
    "</font>"
   ]
  },
  {
   "cell_type": "markdown",
   "id": "3dab35b0",
   "metadata": {
    "deletable": false,
    "editable": false
   },
   "source": [
    "Below we load tables containing 200,000 weekday Uber rides in the Manila, Philippines, and Boston, Massachusetts metropolitan areas from the [Uber Movement](https://movement.uber.com) project. \n",
    "- The `sourceid` and `dstid` columns contain codes corresponding to start (\"source id\") and end (\"destination id\") locations respectively of each ride. \n",
    "- The `hod` column contains codes corresponding to the hour of the day the ride took place. \n",
    "- The `ride time` column contains the length of the ride, in minutes."
   ]
  },
  {
   "cell_type": "code",
   "execution_count": null,
   "id": "46728329",
   "metadata": {
    "deletable": false,
    "editable": false
   },
   "outputs": [],
   "source": [
    "boston = Table.read_table(\"boston.csv\")\n",
    "manila = Table.read_table(\"manila.csv\")\n",
    "print(\"Boston Table\")\n",
    "boston.show(4)\n",
    "print(\"Manila Table\")\n",
    "manila.show(4)"
   ]
  },
  {
   "cell_type": "markdown",
   "id": "99db5b63",
   "metadata": {
    "deletable": false,
    "editable": false
   },
   "source": [
    "<!-- BEGIN QUESTION -->\n",
    "\n",
    "#### Part 3.1 (5 pts)\n"
   ]
  },
  {
   "cell_type": "markdown",
   "id": "9141a9d8",
   "metadata": {
    "deletable": false,
    "editable": false
   },
   "source": [
    " Produce a histogram that visualizes the distributions of all ride times in Boston using the given bins. \n",
    "\n"
   ]
  },
  {
   "cell_type": "code",
   "execution_count": null,
   "id": "c789273a",
   "metadata": {
    "deletable": false,
    "tags": []
   },
   "outputs": [],
   "source": [
    "equal_bins = np.arange(0, 120, 5)\n",
    "..."
   ]
  },
  {
   "cell_type": "markdown",
   "id": "ec4b81d3",
   "metadata": {
    "deletable": false,
    "editable": false
   },
   "source": [
    "<!-- END QUESTION -->\n",
    "\n",
    "<!-- BEGIN QUESTION -->\n",
    "\n",
    "#### Part 3.2 (5 pts)\n"
   ]
  },
  {
   "cell_type": "markdown",
   "id": "b410f3f3",
   "metadata": {
    "deletable": false,
    "editable": false
   },
   "source": [
    " Now, produce a histogram that visualizes the distribution of all ride times in Manila using the given bins. \n",
    "\n"
   ]
  },
  {
   "cell_type": "code",
   "execution_count": null,
   "id": "d01f3675",
   "metadata": {
    "deletable": false,
    "tags": []
   },
   "outputs": [],
   "source": [
    "equal_bins = np.arange(0, 120, 5)\n",
    "...\n",
    "\n",
    "# Don't delete the following line!\n",
    "plt.ylim(0, 0.05);"
   ]
  },
  {
   "cell_type": "markdown",
   "id": "0a827341",
   "metadata": {
    "deletable": false,
    "editable": false
   },
   "source": [
    "<!-- END QUESTION -->\n",
    "\n",
    "#### Part 3.3 (5 pts)\n"
   ]
  },
  {
   "cell_type": "markdown",
   "id": "62837b36",
   "metadata": {
    "deletable": false,
    "editable": false
   },
   "source": [
    " Let's take a closer look at the y-axis label. Assign `unit_meaning` to an integer (1, 2, 3) that corresponds to the \"unit\" in \"Percent per unit\". \n",
    "\n",
    "1. minutes  \n",
    "2. ride time  \n",
    "3. seconds\n",
    "\n"
   ]
  },
  {
   "cell_type": "code",
   "execution_count": null,
   "id": "dc76d410",
   "metadata": {
    "deletable": false,
    "tags": []
   },
   "outputs": [],
   "source": [
    "unit_meaning = ...\n",
    "unit_meaning"
   ]
  },
  {
   "cell_type": "code",
   "execution_count": null,
   "id": "1181900a",
   "metadata": {
    "deletable": false,
    "editable": false
   },
   "outputs": [],
   "source": [
    "grader.check(\"q3.3\")"
   ]
  },
  {
   "cell_type": "markdown",
   "id": "6e478c2f",
   "metadata": {
    "deletable": false,
    "editable": false
   },
   "source": [
    "#### Part 3.4 (5 pts)\n"
   ]
  },
  {
   "cell_type": "markdown",
   "id": "d6a9f415",
   "metadata": {
    "deletable": false,
    "editable": false
   },
   "source": [
    " Assign `boston_under_15` and `manila_under_15` to the percentage of rides that are less than 15 minutes in their respective metropolitan areas. \n",
    " \n",
    " To help you we have provide the \"height\" of various bars from the histogram you created above. Use the height variables that we have defined for you below in order to compute the percentages. Your solution should only use height variables, numbers, and mathematical operations. You should **not** access the tables `boston` and `manila` in any way. "
   ]
  },
  {
   "cell_type": "code",
   "execution_count": null,
   "id": "fca031a5",
   "metadata": {
    "deletable": false,
    "tags": []
   },
   "outputs": [],
   "source": [
    "boston_under_5_height = 1.2\n",
    "manila_under_5_height = 0.6\n",
    "boston_5_to_under_10_height = 3.2\n",
    "manila_5_to_under_10_height = 1.4\n",
    "boston_10_to_under_15_height = 4.9\n",
    "manila_10_to_under_15_height = 2.2\n",
    "\n",
    "boston_under_15 = ...\n",
    "manila_under_15 = ...\n",
    "\n",
    "boston_under_15, manila_under_15"
   ]
  },
  {
   "cell_type": "code",
   "execution_count": null,
   "id": "65e4084f",
   "metadata": {
    "deletable": false,
    "editable": false
   },
   "outputs": [],
   "source": [
    "grader.check(\"q3.4\")"
   ]
  },
  {
   "cell_type": "markdown",
   "id": "2d63597b",
   "metadata": {
    "deletable": false,
    "editable": false
   },
   "source": [
    "#### Part 3.5 (5 pts)\n"
   ]
  },
  {
   "cell_type": "markdown",
   "id": "295b47ac",
   "metadata": {
    "deletable": false,
    "editable": false
   },
   "source": [
    "Manually examine the histogram for the distribution of ride times in Boston. You can use this histogram to find the median ride time for Boston. \n",
    "\n",
    "Assign `boston_median_bin` to an integer (1, 2, 3, 4, or 5) that corresponds to the bin that contains the median time. \n",
    "\n",
    "1. 0-5 minutes  \n",
    "2. 5-10 minutes  \n",
    "3. 10-15 minutes  \n",
    "4. 15-20 minutes  \n",
    "5. 20-25 minutes  \n",
    "\n",
    "*Hint:* The median of a sorted list has half of the list elements to its left, and half to its right."
   ]
  },
  {
   "cell_type": "code",
   "execution_count": null,
   "id": "c2d2589c",
   "metadata": {
    "deletable": false,
    "tags": []
   },
   "outputs": [],
   "source": [
    "boston_median_bin = ...\n",
    "boston_median_bin"
   ]
  },
  {
   "cell_type": "code",
   "execution_count": null,
   "id": "96d96eaa",
   "metadata": {
    "deletable": false,
    "editable": false
   },
   "outputs": [],
   "source": [
    "grader.check(\"q3.5\")"
   ]
  },
  {
   "cell_type": "markdown",
   "id": "482658ab",
   "metadata": {
    "deletable": false,
    "editable": false
   },
   "source": [
    "<!-- BEGIN QUESTION -->\n",
    "\n",
    "#### Part 3.6 (5 pts)\n"
   ]
  },
  {
   "cell_type": "markdown",
   "id": "35e87aab",
   "metadata": {
    "deletable": false,
    "editable": false
   },
   "source": [
    "Identify one difference between the histograms, in terms of actual histogram properties. Based on the following two readings, why are the distributions for Boston and Manila different? \n",
    "\n",
    "- [Boston reading](https://www.climatestotravel.com/climate/united-states/boston)\n",
    "- [Manila reading](https://newsinfo.inquirer.net/1383983/metro-manila-traffic-2nd-worst-in-the-world-report)\n",
    "\n",
    "*Hint:* Try thinking about external factors of the two cities that may be causing the difference!\n",
    "\n"
   ]
  },
  {
   "cell_type": "code",
   "execution_count": null,
   "id": "d019da2b",
   "metadata": {
    "deletable": false,
    "tags": []
   },
   "outputs": [],
   "source": [
    "### **SOLUTION:** Long rides make up a greater proportion of all Uber rides in Manila than in Boston. \n",
    "### This could be because there's more traffic in Manila, or because the weather is not pleasant in Boston in the \n",
    "### winter, so people may choose to take a car for short trips rather than walk."
   ]
  },
  {
   "cell_type": "markdown",
   "id": "b82e1ee2",
   "metadata": {
    "deletable": false,
    "editable": false
   },
   "source": [
    "<!-- END QUESTION -->\n",
    "\n",
    "## 4. You're Done!\n"
   ]
  },
  {
   "cell_type": "markdown",
   "id": "c3565952",
   "metadata": {
    "deletable": false,
    "editable": false
   },
   "source": [
    "**Important submission information:** Follow these steps to submit your work:\n",
    "* Run the tests and verify that they pass as you expect. \n",
    "* Choose **Save Notebook** from the **File** menu.\n",
    "* **Run the final cell** and click the link below to download the zip file. \n",
    "\n",
    "Once you have downloaded that file, go to [Gradescope](https://www.gradescope.com/) and submit the zip file to the corresponding assignment. The name of this assignment is \"Lab 2 Autograder\". **Be sure your work is saved before running the last cell!**\n",
    "\n",
    "Once you have submitted, your Gradescope assignment should show you passing all the tests you passed in your assignment notebook."
   ]
  },
  {
   "cell_type": "markdown",
   "id": "75b6cce5",
   "metadata": {
    "deletable": false,
    "editable": false
   },
   "source": [
    "---\n",
    "\n",
    "To double-check your work, the cell below will rerun all of the autograder tests."
   ]
  },
  {
   "cell_type": "code",
   "execution_count": null,
   "id": "dc1dae7e",
   "metadata": {
    "deletable": false,
    "editable": false
   },
   "outputs": [],
   "source": [
    "grader.check_all()"
   ]
  },
  {
   "cell_type": "markdown",
   "id": "1bd7b98f",
   "metadata": {
    "deletable": false,
    "editable": false
   },
   "source": [
    "## Submission\n",
    "\n",
    "Make sure you have run all cells in your notebook in order before running the cell below, so that all images/graphs appear in the output. The cell below will generate a zip file for you to submit. **Please save before exporting!**"
   ]
  },
  {
   "cell_type": "code",
   "execution_count": null,
   "id": "7a35379f",
   "metadata": {
    "deletable": false,
    "editable": false
   },
   "outputs": [],
   "source": [
    "# Save your notebook first, then run this cell to export your submission.\n",
    "grader.export()"
   ]
  },
  {
   "cell_type": "markdown",
   "id": "f4257c19",
   "metadata": {},
   "source": [
    " "
   ]
  }
 ],
 "metadata": {
  "kernelspec": {
   "display_name": "Python 3.9.13 ('_test-env': venv)",
   "language": "python",
   "name": "python3"
  },
  "language_info": {
   "codemirror_mode": {
    "name": "ipython",
    "version": 3
   },
   "file_extension": ".py",
   "mimetype": "text/x-python",
   "name": "python",
   "nbconvert_exporter": "python",
   "pygments_lexer": "ipython3",
   "version": "3.9.13"
  },
  "vscode": {
   "interpreter": {
    "hash": "e9a7af6fc709cc25e111b0d6e28f738a78907138b7e48b682edcf6dfb7dc8bee"
   }
  }
 },
 "nbformat": 4,
 "nbformat_minor": 5
}
